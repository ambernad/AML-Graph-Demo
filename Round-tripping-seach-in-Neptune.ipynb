{
 "cells": [
  {
   "cell_type": "code",
   "execution_count": 2,
   "id": "5b1bbb79-58ec-4c8f-86f3-016e34f1f1eb",
   "metadata": {
    "tags": []
   },
   "outputs": [
    {
     "data": {
      "application/vnd.jupyter.widget-view+json": {
       "model_id": "6f0859d27ba34b6aaabd91bc08932df6",
       "version_major": 2,
       "version_minor": 0
      },
      "text/plain": [
       "Tab(children=(Output(layout=Layout(max_height='600px', max_width='940px', overflow='scroll')), Output(layout=L…"
      ]
     },
     "metadata": {},
     "output_type": "display_data"
    }
   ],
   "source": [
    "%%gremlin\n",
    "g.V().limit(100) //check existing vertices"
   ]
  },
  {
   "cell_type": "code",
   "execution_count": 14,
   "id": "e31a85d5-24d6-4430-ad21-f071a6619f0d",
   "metadata": {
    "tags": []
   },
   "outputs": [
    {
     "data": {
      "application/vnd.jupyter.widget-view+json": {
       "model_id": "9146664f7b214123849a6a79fbe48e4a",
       "version_major": 2,
       "version_minor": 0
      },
      "text/plain": [
       "Tab(children=(Output(layout=Layout(max_height='600px', max_width='940px', overflow='scroll')), Output(layout=L…"
      ]
     },
     "metadata": {},
     "output_type": "display_data"
    }
   ],
   "source": [
    "%%gremlin\n",
    "g.E().limit(10) //check existing edges"
   ]
  },
  {
   "cell_type": "code",
   "execution_count": 15,
   "id": "4386d7d6-2ab9-4efb-be8e-46dde44c925a",
   "metadata": {
    "tags": []
   },
   "outputs": [
    {
     "data": {
      "application/vnd.jupyter.widget-view+json": {
       "model_id": "856ac42e69fa48198176eb036450ed1b",
       "version_major": 2,
       "version_minor": 0
      },
      "text/plain": [
       "Tab(children=(Output(layout=Layout(max_height='600px', max_width='940px', overflow='scroll')), Force(network=<…"
      ]
     },
     "metadata": {},
     "output_type": "display_data"
    }
   ],
   "source": [
    "%%gremlin\n",
    "g.V().valueMap(true) //check other properties in the graph"
   ]
  },
  {
   "cell_type": "code",
   "execution_count": 16,
   "id": "7a9109e6-c022-4c49-bd6f-7c6d29b4587a",
   "metadata": {
    "tags": []
   },
   "outputs": [
    {
     "data": {
      "application/vnd.jupyter.widget-view+json": {
       "model_id": "9024c6afe76f4d6ca7136ef9d0239941",
       "version_major": 2,
       "version_minor": 0
      },
      "text/plain": [
       "Tab(children=(Output(layout=Layout(max_height='600px', max_width='940px', overflow='scroll')), Output(layout=L…"
      ]
     },
     "metadata": {},
     "output_type": "display_data"
    }
   ],
   "source": [
    "%%gremlin\n",
    "g.V().as('a') // lets find the simpliest case: 2 nodes linked to 1 common node\n",
    " .out().as('b')\n",
    " .out().as('c')\n",
    " .filter(__.out().where(eq('a')))\n",
    " .select('a', 'b', 'c')\n",
    " .dedup()\n"
   ]
  },
  {
   "cell_type": "code",
   "execution_count": 17,
   "id": "29817f3c-551f-411a-84a6-aba74ad32709",
   "metadata": {
    "tags": []
   },
   "outputs": [
    {
     "data": {
      "application/vnd.jupyter.widget-view+json": {
       "model_id": "dc6b3306ae014630b290a0a9286df7ca",
       "version_major": 2,
       "version_minor": 0
      },
      "text/plain": [
       "Tab(children=(Output(layout=Layout(max_height='600px', max_width='940px', overflow='scroll')), Output(layout=L…"
      ]
     },
     "metadata": {},
     "output_type": "display_data"
    }
   ],
   "source": [
    "%%gremlin\n",
    "g.V().as('a') // now we enforce ordering to remove duplicates\n",
    " .out().as('b')\n",
    " .out().as('c')\n",
    " .filter(__.out().where(eq('a')))\n",
    " .where('a', lt('b')) // Ensure 'a' < 'b' to enforce order\n",
    " .where('b', lt('c')) // Ensure 'b' < 'c' to enforce order\n",
    " .select('a', 'b', 'c')\n",
    " .dedup()"
   ]
  },
  {
   "cell_type": "code",
   "execution_count": 20,
   "id": "d0137ec7-5893-4753-987a-5681946fc97c",
   "metadata": {
    "tags": []
   },
   "outputs": [
    {
     "data": {
      "application/vnd.jupyter.widget-view+json": {
       "model_id": "07070c2512e54bb9b57e5164e846d326",
       "version_major": 2,
       "version_minor": 0
      },
      "text/plain": [
       "Tab(children=(Output(layout=Layout(max_height='600px', max_width='940px', overflow='scroll')), Force(network=<…"
      ]
     },
     "metadata": {},
     "output_type": "display_data"
    }
   ],
   "source": [
    "%%gremlin                               \n",
    "g.V().as('a')                          // now lets find closed triangle (loop). Start with vertex 'a'\n",
    " .outE().as('ab').inV().as('b')        // Traverse an edge 'ab' from 'a' to 'b'\n",
    " .outE().as('bc').inV().as('c')        // Traverse an edge 'bc' from 'b' to 'c'\n",
    " .outE().as('ca').inV().where(eq('a')) // Explicitly traverse the edge 'ca' back to 'a'\n",
    " .path()                               // Include vertices and edges in the path\n",
    " .by('accountId')                      // Use accountId for vertex labels\n",
    " .by()                                 // Include full edge objects\n",
    " .limit(5)                             // Limit to 5 results for better visibility\n"
   ]
  },
  {
   "cell_type": "code",
   "execution_count": 21,
   "id": "7172f58a-5e92-4fb7-ad4d-f4963aa6c145",
   "metadata": {
    "tags": []
   },
   "outputs": [
    {
     "data": {
      "application/vnd.jupyter.widget-view+json": {
       "model_id": "5118f278e4794a53bddc402396ac6f8d",
       "version_major": 2,
       "version_minor": 0
      },
      "text/plain": [
       "Tab(children=(Output(layout=Layout(max_height='600px', max_width='940px', overflow='scroll')), Force(network=<…"
      ]
     },
     "metadata": {},
     "output_type": "display_data"
    }
   ],
   "source": [
    "%%gremlin                              \n",
    "g.V().as('a')                          // add condition on transaction amount. it should be same sum transfered. Start with vertex 'a'\n",
    " .outE().as('ab').inV().as('b')        // Traverse an edge 'ab' from 'a' to 'b'\n",
    " .outE().as('bc').inV().as('c')        // Traverse an edge 'bc' from 'b' to 'c'\n",
    " .outE().as('ca').inV().where(eq('a')) // Explicitly traverse the edge 'ca' back to 'a'\n",
    " .where(select('ab', 'bc', 'ca')       // Ensure all edge amounts are the same\n",
    "        .by('amount')\n",
    "        .fold()\n",
    "        .dedup()\n",
    "        .count(local).is(1))           // Check that the amounts are identical\n",
    " .path()                               // Include vertices and edges in the path\n",
    " .by('accountId')                      // Use accountId for vertex labels\n",
    " .by()                                 // Include full edge objects\n",
    " .limit(5)                             // Limit to 5 results\n"
   ]
  },
  {
   "cell_type": "code",
   "execution_count": null,
   "id": "3250d463-1670-4809-b7b3-55fd6bd374af",
   "metadata": {},
   "outputs": [],
   "source": []
  }
 ],
 "metadata": {
  "kernelspec": {
   "display_name": "Python 3",
   "language": "python",
   "name": "python3"
  },
  "language_info": {
   "codemirror_mode": {
    "name": "ipython",
    "version": 3
   },
   "file_extension": ".py",
   "mimetype": "text/x-python",
   "name": "python",
   "nbconvert_exporter": "python",
   "pygments_lexer": "ipython3",
   "version": "3.10.8"
  }
 },
 "nbformat": 4,
 "nbformat_minor": 5
}
